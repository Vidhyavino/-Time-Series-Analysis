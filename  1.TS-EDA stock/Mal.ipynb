{
 "cells": [
  {
   "cell_type": "code",
   "execution_count": 1,
   "id": "ba9da7c5-f329-401a-b6f2-4787c8ecae58",
   "metadata": {},
   "outputs": [
    {
     "name": "stdout",
     "output_type": "stream",
     "text": [
      "Collecting equitorium\n",
      "  Downloading equitorium-0.0.2-py3-none-any.whl.metadata (3.4 kB)\n",
      "Requirement already satisfied: numpy in /Users/vidhya/anaconda3/lib/python3.11/site-packages (from equitorium) (1.26.4)\n",
      "Requirement already satisfied: pandas in /Users/vidhya/anaconda3/lib/python3.11/site-packages (from equitorium) (2.2.2)\n",
      "Requirement already satisfied: tqdm in /Users/vidhya/anaconda3/lib/python3.11/site-packages (from equitorium) (4.66.4)\n",
      "Requirement already satisfied: scipy in /Users/vidhya/anaconda3/lib/python3.11/site-packages (from equitorium) (1.13.1)\n",
      "Requirement already satisfied: pyarrow in /Users/vidhya/anaconda3/lib/python3.11/site-packages (from equitorium) (14.0.2)\n",
      "Requirement already satisfied: plotly in /Users/vidhya/anaconda3/lib/python3.11/site-packages (from equitorium) (5.22.0)\n",
      "Requirement already satisfied: scikit-learn in /Users/vidhya/anaconda3/lib/python3.11/site-packages (from equitorium) (1.4.2)\n",
      "Collecting dashtable (from equitorium)\n",
      "  Downloading dashtable-1.4.5.tar.gz (19 kB)\n",
      "  Preparing metadata (setup.py) ... \u001b[?25ldone\n",
      "\u001b[?25hCollecting dash (from equitorium)\n",
      "  Downloading dash-2.17.1-py3-none-any.whl.metadata (10 kB)\n",
      "Requirement already satisfied: Flask<3.1,>=1.0.4 in /Users/vidhya/anaconda3/lib/python3.11/site-packages (from dash->equitorium) (3.0.3)\n",
      "Requirement already satisfied: Werkzeug<3.1 in /Users/vidhya/anaconda3/lib/python3.11/site-packages (from dash->equitorium) (3.0.3)\n",
      "Collecting dash-html-components==2.0.0 (from dash->equitorium)\n",
      "  Downloading dash_html_components-2.0.0-py3-none-any.whl.metadata (3.8 kB)\n",
      "Collecting dash-core-components==2.0.0 (from dash->equitorium)\n",
      "  Downloading dash_core_components-2.0.0-py3-none-any.whl.metadata (2.9 kB)\n",
      "Collecting dash-table==5.0.0 (from dash->equitorium)\n",
      "  Downloading dash_table-5.0.0-py3-none-any.whl.metadata (2.4 kB)\n",
      "Requirement already satisfied: importlib-metadata in /Users/vidhya/anaconda3/lib/python3.11/site-packages (from dash->equitorium) (7.0.1)\n",
      "Requirement already satisfied: typing-extensions>=4.1.1 in /Users/vidhya/anaconda3/lib/python3.11/site-packages (from dash->equitorium) (4.11.0)\n",
      "Requirement already satisfied: requests in /Users/vidhya/anaconda3/lib/python3.11/site-packages (from dash->equitorium) (2.32.2)\n",
      "Collecting retrying (from dash->equitorium)\n",
      "  Downloading retrying-1.3.4-py3-none-any.whl.metadata (6.9 kB)\n",
      "Requirement already satisfied: nest-asyncio in /Users/vidhya/anaconda3/lib/python3.11/site-packages (from dash->equitorium) (1.6.0)\n",
      "Requirement already satisfied: setuptools in /Users/vidhya/anaconda3/lib/python3.11/site-packages (from dash->equitorium) (69.5.1)\n",
      "Requirement already satisfied: tenacity>=6.2.0 in /Users/vidhya/anaconda3/lib/python3.11/site-packages (from plotly->equitorium) (8.2.2)\n",
      "Requirement already satisfied: packaging in /Users/vidhya/anaconda3/lib/python3.11/site-packages (from plotly->equitorium) (23.2)\n",
      "Requirement already satisfied: python-dateutil>=2.8.2 in /Users/vidhya/anaconda3/lib/python3.11/site-packages (from pandas->equitorium) (2.9.0.post0)\n",
      "Requirement already satisfied: pytz>=2020.1 in /Users/vidhya/anaconda3/lib/python3.11/site-packages (from pandas->equitorium) (2024.1)\n",
      "Requirement already satisfied: tzdata>=2022.7 in /Users/vidhya/anaconda3/lib/python3.11/site-packages (from pandas->equitorium) (2023.3)\n",
      "Requirement already satisfied: joblib>=1.2.0 in /Users/vidhya/anaconda3/lib/python3.11/site-packages (from scikit-learn->equitorium) (1.4.2)\n",
      "Requirement already satisfied: threadpoolctl>=2.0.0 in /Users/vidhya/anaconda3/lib/python3.11/site-packages (from scikit-learn->equitorium) (2.2.0)\n",
      "Requirement already satisfied: Jinja2>=3.1.2 in /Users/vidhya/anaconda3/lib/python3.11/site-packages (from Flask<3.1,>=1.0.4->dash->equitorium) (3.1.4)\n",
      "Requirement already satisfied: itsdangerous>=2.1.2 in /Users/vidhya/anaconda3/lib/python3.11/site-packages (from Flask<3.1,>=1.0.4->dash->equitorium) (2.2.0)\n",
      "Requirement already satisfied: click>=8.1.3 in /Users/vidhya/anaconda3/lib/python3.11/site-packages (from Flask<3.1,>=1.0.4->dash->equitorium) (8.1.7)\n",
      "Requirement already satisfied: blinker>=1.6.2 in /Users/vidhya/anaconda3/lib/python3.11/site-packages (from Flask<3.1,>=1.0.4->dash->equitorium) (1.6.2)\n",
      "Requirement already satisfied: six>=1.5 in /Users/vidhya/anaconda3/lib/python3.11/site-packages (from python-dateutil>=2.8.2->pandas->equitorium) (1.16.0)\n",
      "Requirement already satisfied: MarkupSafe>=2.1.1 in /Users/vidhya/anaconda3/lib/python3.11/site-packages (from Werkzeug<3.1->dash->equitorium) (2.1.3)\n",
      "Requirement already satisfied: zipp>=0.5 in /Users/vidhya/anaconda3/lib/python3.11/site-packages (from importlib-metadata->dash->equitorium) (3.17.0)\n",
      "Requirement already satisfied: charset-normalizer<4,>=2 in /Users/vidhya/anaconda3/lib/python3.11/site-packages (from requests->dash->equitorium) (2.0.4)\n",
      "Requirement already satisfied: idna<4,>=2.5 in /Users/vidhya/anaconda3/lib/python3.11/site-packages (from requests->dash->equitorium) (2.10)\n",
      "Requirement already satisfied: urllib3<3,>=1.21.1 in /Users/vidhya/anaconda3/lib/python3.11/site-packages (from requests->dash->equitorium) (1.26.18)\n",
      "Requirement already satisfied: certifi>=2017.4.17 in /Users/vidhya/anaconda3/lib/python3.11/site-packages (from requests->dash->equitorium) (2024.6.2)\n",
      "Downloading equitorium-0.0.2-py3-none-any.whl (21 kB)\n",
      "Downloading dash-2.17.1-py3-none-any.whl (7.5 MB)\n",
      "\u001b[2K   \u001b[90m━━━━━━━━━━━━━━━━━━━━━━━━━━━━━━━━━━━━━━━━\u001b[0m \u001b[32m7.5/7.5 MB\u001b[0m \u001b[31m2.5 MB/s\u001b[0m eta \u001b[36m0:00:00\u001b[0m00:01\u001b[0m00:01\u001b[0m\n",
      "\u001b[?25hDownloading dash_core_components-2.0.0-py3-none-any.whl (3.8 kB)\n",
      "Downloading dash_html_components-2.0.0-py3-none-any.whl (4.1 kB)\n",
      "Downloading dash_table-5.0.0-py3-none-any.whl (3.9 kB)\n",
      "Downloading retrying-1.3.4-py3-none-any.whl (11 kB)\n",
      "Building wheels for collected packages: dashtable\n",
      "  Building wheel for dashtable (setup.py) ... \u001b[?25ldone\n",
      "\u001b[?25h  Created wheel for dashtable: filename=dashtable-1.4.5-py3-none-any.whl size=42326 sha256=aa10170ba4f0803a664ca9ebe9e190aa8d8473fec93068f5dfd909c3f2f46333\n",
      "  Stored in directory: /Users/vidhya/Library/Caches/pip/wheels/fc/29/97/d07adecaf2dddf6da3733601dacba86f9f8f873b93e3f97ecb\n",
      "Successfully built dashtable\n",
      "Installing collected packages: dashtable, dash-table, dash-html-components, dash-core-components, retrying, dash, equitorium\n",
      "Successfully installed dash-2.17.1 dash-core-components-2.0.0 dash-html-components-2.0.0 dash-table-5.0.0 dashtable-1.4.5 equitorium-0.0.2 retrying-1.3.4\n"
     ]
    }
   ],
   "source": [
    "!pip install equitorium"
   ]
  },
  {
   "cell_type": "code",
   "execution_count": null,
   "id": "ae073513-8e48-4b76-9939-1815ae3dbe39",
   "metadata": {},
   "outputs": [],
   "source": []
  }
 ],
 "metadata": {
  "kernelspec": {
   "display_name": "Python 3 (ipykernel)",
   "language": "python",
   "name": "python3"
  },
  "language_info": {
   "codemirror_mode": {
    "name": "ipython",
    "version": 3
   },
   "file_extension": ".py",
   "mimetype": "text/x-python",
   "name": "python",
   "nbconvert_exporter": "python",
   "pygments_lexer": "ipython3",
   "version": "3.12.2"
  }
 },
 "nbformat": 4,
 "nbformat_minor": 5
}
